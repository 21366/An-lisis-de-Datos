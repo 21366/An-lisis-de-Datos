{
  "nbformat": 4,
  "nbformat_minor": 0,
  "metadata": {
    "colab": {
      "provenance": [],
      "authorship_tag": "ABX9TyOm8oT7CEcjMFsm18e508CG",
      "include_colab_link": true
    },
    "kernelspec": {
      "name": "python3",
      "display_name": "Python 3"
    },
    "language_info": {
      "name": "python"
    }
  },
  "cells": [
    {
      "cell_type": "markdown",
      "metadata": {
        "id": "view-in-github",
        "colab_type": "text"
      },
      "source": [
        "<a href=\"https://colab.research.google.com/github/21366/Analisis-de-Datos/blob/main/A%C3%B1o_Bisiesto.ipynb\" target=\"_parent\"><img src=\"https://colab.research.google.com/assets/colab-badge.svg\" alt=\"Open In Colab\"/></a>"
      ]
    },
    {
      "cell_type": "code",
      "source": [
        "from google.colab import auth\n",
        "auth.authenticate_user()\n",
        "print('Authenticated')"
      ],
      "metadata": {
        "colab": {
          "base_uri": "https://localhost:8080/"
        },
        "id": "velQnjQ2KMpu",
        "outputId": "da0f6916-27ff-4ae8-bd57-dbaa4960da53"
      },
      "execution_count": 1,
      "outputs": [
        {
          "output_type": "stream",
          "name": "stdout",
          "text": [
            "Authenticated\n"
          ]
        }
      ]
    },
    {
      "cell_type": "markdown",
      "source": [
        "**Ejercicio de Año Bisiesto**\n"
      ],
      "metadata": {
        "id": "JOMmlviBFGWK"
      }
    },
    {
      "cell_type": "code",
      "source": [
        "print(\"Ejercicio Bisiesto\")\n",
        "anio = int(input(\"Ingrese el año: \"))\n",
        "if(anio % 400 == 0 ) or (anio % 4 == 0 ) and (anio % 100 != 0):\n",
        "   print (\"El año es Bisesto\")\n",
        "else:\n",
        "  print (\"El año no es Bisesto\")\n"
      ],
      "metadata": {
        "colab": {
          "base_uri": "https://localhost:8080/"
        },
        "id": "u-Fj-9bwFMXp",
        "outputId": "bb1ba74c-8595-45f8-b167-91952f3391ed"
      },
      "execution_count": 2,
      "outputs": [
        {
          "output_type": "stream",
          "name": "stdout",
          "text": [
            "Ejercicio Bisiesto\n",
            "Ingrese el año: 2024\n",
            "El año es Bisesto\n"
          ]
        }
      ]
    },
    {
      "cell_type": "markdown",
      "source": [
        "***Swich***\n",
        "Mese del ano"
      ],
      "metadata": {
        "id": "BAQm2NfgGMTi"
      }
    },
    {
      "cell_type": "code",
      "source": [
        "switcher = {1: \"Enero\", 2: \"Febrero\", 3: \"Marzo\", 4: \"Abril\", 5: \"Mayo\",6: \"Junio\", 7: \"Julio\",8: \"Agosto\",9: \"Septiembre\",10: \"Octubre\",11: \"Noviembre\",12: \"Dicembre\",}\n",
        "argument= int (input(\"Ingrese un numero:\"))\n",
        "nombreDeMes= switcher.get(argument, \"Mes invalido\")\n",
        "print(nombreDeMes)"
      ],
      "metadata": {
        "colab": {
          "base_uri": "https://localhost:8080/"
        },
        "id": "nB8qIXdwGS20",
        "outputId": "8638541d-6dde-4d85-c664-088847b8080f"
      },
      "execution_count": null,
      "outputs": [
        {
          "output_type": "stream",
          "name": "stdout",
          "text": [
            "Ingrese un numero:6\n",
            "Junio\n"
          ]
        }
      ]
    },
    {
      "cell_type": "markdown",
      "source": [
        "# **Ciclo**\n",
        "While\n",
        "Forach"
      ],
      "metadata": {
        "id": "PW3WawEyKqZq"
      }
    },
    {
      "cell_type": "markdown",
      "source": [
        "Problema #1"
      ],
      "metadata": {
        "id": "V2eSYY1mLBe8"
      }
    },
    {
      "cell_type": "code",
      "source": [
        "#creacion de variables\n",
        "C=-1\n",
        "I=0\n",
        "M=0\n",
        "while(C<0) or (I<=0) or (I>=100)or(M<=0):\n",
        "  print(\"Introduce el capital, el interes , el tiempo apropiados\")\n",
        "  C=int(input(\"Capital: \"))\n",
        "  I=int(input(\"Interes: \"))\n",
        "  M=int(input(\"Tiempo en Años: \"))\n",
        "\n",
        "for i in range(M):\n",
        "  C=C*(1+ I/100)\n",
        "  print(\"Monto\", C , \"Colones\")\n",
        "\n"
      ],
      "metadata": {
        "colab": {
          "base_uri": "https://localhost:8080/"
        },
        "id": "k43vlNdTK--W",
        "outputId": "7f6e1edf-e14f-42f2-a014-61f03e8c2a83"
      },
      "execution_count": 3,
      "outputs": [
        {
          "output_type": "stream",
          "name": "stdout",
          "text": [
            "Introduce el capital, el interes , el tiempo apropiados\n",
            "Capital: 200\n",
            "Interes: 13\n",
            "Tiempo en Años: 4\n",
            "Monto 225.99999999999997 Colones\n",
            "Monto 255.37999999999994 Colones\n",
            "Monto 288.5793999999999 Colones\n",
            "Monto 326.0947219999999 Colones\n"
          ]
        }
      ]
    },
    {
      "cell_type": "markdown",
      "source": [
        "Divisores"
      ],
      "metadata": {
        "id": "rgUp_SJ-M6U7"
      }
    },
    {
      "cell_type": "code",
      "source": [
        "print(\"Digite un numero\")\n",
        "numero = int(input(\"Numero: \"))\n",
        "\n",
        "while numero>0:\n",
        "  Suma = 0\n",
        "  for i in range(1, numero + 1):\n",
        "      if(numero % i == 0):\n",
        "         Suma=Suma + i\n",
        "  print (Suma)\n",
        "  numero = int(input(\"Numero: \"))"
      ],
      "metadata": {
        "colab": {
          "base_uri": "https://localhost:8080/"
        },
        "id": "HSopu0PyNI0s",
        "outputId": "51a6edb9-8dce-4634-853d-a4547c366780"
      },
      "execution_count": null,
      "outputs": [
        {
          "name": "stdout",
          "output_type": "stream",
          "text": [
            "Digite un numero\n",
            "Numero: 4\n"
          ]
        }
      ]
    }
  ]
}