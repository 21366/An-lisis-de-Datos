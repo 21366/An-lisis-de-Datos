{
  "nbformat": 4,
  "nbformat_minor": 0,
  "metadata": {
    "colab": {
      "provenance": [],
      "authorship_tag": "ABX9TyNENwPhvpa90zcgTdO25gnC",
      "include_colab_link": true
    },
    "kernelspec": {
      "name": "python3",
      "display_name": "Python 3"
    },
    "language_info": {
      "name": "python"
    }
  },
  "cells": [
    {
      "cell_type": "markdown",
      "metadata": {
        "id": "view-in-github",
        "colab_type": "text"
      },
      "source": [
        "<a href=\"https://colab.research.google.com/github/21366/Analisis-de-Datos/blob/main/Mapas_Geopy_2024.ipynb\" target=\"_parent\"><img src=\"https://colab.research.google.com/assets/colab-badge.svg\" alt=\"Open In Colab\"/></a>"
      ]
    },
    {
      "cell_type": "code",
      "source": [
        "from google.colab import auth\n",
        "auth.authenticate_user()\n",
        "print('Authenticated')"
      ],
      "metadata": {
        "colab": {
          "base_uri": "https://localhost:8080/"
        },
        "id": "DeopyzzALj43",
        "outputId": "c4746b79-1e6b-46cf-d4f2-bb46f2f48d8d"
      },
      "execution_count": 1,
      "outputs": [
        {
          "output_type": "stream",
          "name": "stdout",
          "text": [
            "Authenticated\n"
          ]
        }
      ]
    },
    {
      "cell_type": "markdown",
      "source": [
        "Mapas Geopy 2024"
      ],
      "metadata": {
        "id": "c4f-HA61R9f4"
      }
    },
    {
      "cell_type": "code",
      "execution_count": null,
      "metadata": {
        "id": "kHphwnr2RQfk"
      },
      "outputs": [],
      "source": [
        "from geopy.geocoders import Nominatim  # libreria de mapas\n",
        "from google.colab import files\n",
        "import folium\n",
        "from geopy.distance import geodesic"
      ]
    },
    {
      "cell_type": "markdown",
      "source": [
        "Buscar la latitud y longitud"
      ],
      "metadata": {
        "id": "DIdyGPNPSa5v"
      }
    },
    {
      "cell_type": "code",
      "source": [
        "geolacator = Nominatim(user_agent=\"stemcoder\") #inicializar las recusos"
      ],
      "metadata": {
        "id": "knIC5plTSUKw"
      },
      "execution_count": null,
      "outputs": []
    },
    {
      "cell_type": "code",
      "source": [
        "#1, Encontrar la ubicacion de Costa Rica\n",
        "Location = geolacator.geocode(\"Costa Rica\")"
      ],
      "metadata": {
        "id": "9ExThagXTF4Q"
      },
      "execution_count": null,
      "outputs": []
    },
    {
      "cell_type": "code",
      "source": [
        "if Location is not None :\n",
        "  print(\"Ubicacion encontrada: \")\n",
        "  print(\"Direccion: \", Location.address)\n",
        "  print(\"Latitud: \", Location.latitude)\n",
        "  print(\"Longitud: \", Location.longitude)\n",
        "else:\n",
        "  print(\"Ubicacion no encontrada \")"
      ],
      "metadata": {
        "colab": {
          "base_uri": "https://localhost:8080/"
        },
        "id": "7LkDBwHsUHRJ",
        "outputId": "ec9921e9-67a4-4e7e-f307-1d0bf24abecb"
      },
      "execution_count": null,
      "outputs": [
        {
          "output_type": "stream",
          "name": "stdout",
          "text": [
            "Ubicacion encontrada: \n",
            "Direccion:  Costa Rica\n",
            "Latitud:  10.2735633\n",
            "Longitud:  -84.0739102\n"
          ]
        }
      ]
    },
    {
      "cell_type": "code",
      "source": [
        "#Coordenadas del centro Costa Rica\n",
        "lat,lon = 9.7489 , -83.7534"
      ],
      "metadata": {
        "id": "XdMmeCB2WJgI"
      },
      "execution_count": null,
      "outputs": []
    },
    {
      "cell_type": "code",
      "source": [
        "#Mostar ubicacion\n",
        "costa_rica_map = folium.Map(location =[lat,lon], zoom_start=7)\n",
        "costa_rica_map.save(\"CostaRica.html\")\n",
        "files.download(\"CostaRica.html\")\n",
        "costa_rica_map"
      ],
      "metadata": {
        "id": "geBn66rKVvKA"
      },
      "execution_count": null,
      "outputs": []
    },
    {
      "cell_type": "code",
      "source": [
        "# Calcular la distancia entre dos ubicacion por us coordinadas de latitud y longitud\n",
        "#Cordenada de la primera Ubicacion (new Your)  40.71350727620648, -74.04423710942622\n",
        "# Los Angles 34.05417971688746, -118.28406621212851\n",
        "lat1,lon1 = 40.71350727620648, -74.04423710942622\n",
        "lat2,lon2 = 34.05417971688746, -118.28406621212851\n",
        "\n",
        "distance = geodesic((lat1,lon1), (lat2,lon2))\n",
        "print (f\"La distancia entre las dos ubicaciones es de: {distance} \")"
      ],
      "metadata": {
        "colab": {
          "base_uri": "https://localhost:8080/"
        },
        "id": "Ja8CDRycdN84",
        "outputId": "02b15dbd-ec45-44bd-8900-078f81e36083"
      },
      "execution_count": null,
      "outputs": [
        {
          "output_type": "stream",
          "name": "stdout",
          "text": [
            "La distancia entre las dos ubicaciones es de: 3944.5071865249433 km \n"
          ]
        }
      ]
    },
    {
      "cell_type": "code",
      "source": [
        "# 27.175392933971015, 78.04211001021139\n",
        "#Encontrar un lugar\n",
        "ubicacion = \"Taj Mahal\"\n",
        "location = geolacator.geocode(ubicacion)\n",
        "\n",
        "if location is not None :\n",
        "  print(\"Ubicacion encontrada: \")\n",
        "  print(\"Direccion: \", location.address)\n",
        "  print(\"Latitud: \", location.latitude)\n",
        "  print(\"Longitud: \", location.longitude)\n",
        "else:\n",
        "  print(\"Ubicacion no encontrada \")"
      ],
      "metadata": {
        "colab": {
          "base_uri": "https://localhost:8080/"
        },
        "id": "R5xV9bpueYbx",
        "outputId": "96bdef0d-5e5d-41db-eeca-9526d3656c89"
      },
      "execution_count": null,
      "outputs": [
        {
          "output_type": "stream",
          "name": "stdout",
          "text": [
            "Ubicacion encontrada: \n",
            "Direccion:  Taj Mahal, Taj East Gate Road, Taj Ganj, Agra, Agra District, Uttar Pradesh, 282004, India\n",
            "Latitud:  27.1750075\n",
            "Longitud:  78.04210126365584\n"
          ]
        }
      ]
    },
    {
      "cell_type": "code",
      "source": [
        "#1. Individual\n",
        "#A. Van a buscar un lugar donde a ustedes les gustaría visitar\n",
        "#B. Calcular la distancia de ese lugar con CR\n",
        "#C. Generar el Mapa en HTML de ese lugar\n",
        "#D. Subir el código en Python y el Mapa"
      ],
      "metadata": {
        "id": "AFc3L3GSfrUR"
      },
      "execution_count": null,
      "outputs": []
    },
    {
      "cell_type": "code",
      "source": [
        "# Calcular la distancia entre dos ubicacion por us coordinadas de latitud y longitud\n",
        "#Cordenada de la primera Ubicacion (Tore seul) 37.55126293712446, 126.9881944105132\n",
        "# Hallasan 33.36231085693755, 126.52946695834605\n",
        "lat3,lon3 = 37.55126293712446, 126.9881944105132\n",
        "lat4,lon4 = 33.36231085693755, 126.52946695834605\n",
        "\n",
        "distance = geodesic((lat3,lon3), (lat4,lon4))\n",
        "print (f\"La distancia entre las dos ubicaciones es de: {distance} \")"
      ],
      "metadata": {
        "colab": {
          "base_uri": "https://localhost:8080/"
        },
        "id": "XPWPcZXKaUL5",
        "outputId": "bc6cb844-5a49-49fa-8fe1-b6217217a0f7"
      },
      "execution_count": null,
      "outputs": [
        {
          "output_type": "stream",
          "name": "stdout",
          "text": [
            "La distancia entre las dos ubicaciones es de: 466.62033236801244 km \n"
          ]
        }
      ]
    }
  ]
}