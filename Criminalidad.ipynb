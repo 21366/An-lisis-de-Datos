{
  "nbformat": 4,
  "nbformat_minor": 0,
  "metadata": {
    "colab": {
      "provenance": [],
      "collapsed_sections": [
        "wnb1g0KNJOaG"
      ],
      "authorship_tag": "ABX9TyMksLfiRoVmcBCppTJkbDVj",
      "include_colab_link": true
    },
    "kernelspec": {
      "name": "python3",
      "display_name": "Python 3"
    },
    "language_info": {
      "name": "python"
    }
  },
  "cells": [
    {
      "cell_type": "markdown",
      "metadata": {
        "id": "view-in-github",
        "colab_type": "text"
      },
      "source": [
        "<a href=\"https://colab.research.google.com/github/21366/Analisis-de-Datos/blob/main/Criminalidad.ipynb\" target=\"_parent\"><img src=\"https://colab.research.google.com/assets/colab-badge.svg\" alt=\"Open In Colab\"/></a>"
      ]
    },
    {
      "cell_type": "code",
      "source": [
        "from google.colab import auth\n",
        "auth.authenticate_user()\n",
        "print('Authenticated')"
      ],
      "metadata": {
        "colab": {
          "base_uri": "https://localhost:8080/"
        },
        "id": "Ni6kOeypHwzc",
        "outputId": "5e00046a-6a54-4d79-fc5d-ec66440c6638"
      },
      "execution_count": 1,
      "outputs": [
        {
          "output_type": "stream",
          "name": "stdout",
          "text": [
            "Authenticated\n"
          ]
        }
      ]
    },
    {
      "cell_type": "markdown",
      "source": [
        "# Subir cv"
      ],
      "metadata": {
        "id": "wnb1g0KNJOaG"
      }
    },
    {
      "cell_type": "code",
      "execution_count": null,
      "metadata": {
        "colab": {
          "base_uri": "https://localhost:8080/"
        },
        "id": "klDieVpXFVJa",
        "outputId": "653e4773-f12c-4864-90a8-d02035d1c753"
      },
      "outputs": [
        {
          "output_type": "stream",
          "name": "stdout",
          "text": [
            "       ID      Country  Year  \\\n",
            "0       4  Afghanistan  2010   \n",
            "1       4  Afghanistan  2018   \n",
            "2       4  Afghanistan  2018   \n",
            "3       4  Afghanistan  2018   \n",
            "4       8      Albania  2005   \n",
            "...   ...          ...   ...   \n",
            "3558  716     Zimbabwe  2008   \n",
            "3559  716     Zimbabwe  2008   \n",
            "3560  716     Zimbabwe  2008   \n",
            "3561  716     Zimbabwe  2010   \n",
            "3562  716     Zimbabwe  2012   \n",
            "\n",
            "                                                 Series  Value Footnotes  \\\n",
            "0                Intentional homicide rates per 100,000    3.4       NaN   \n",
            "1                Intentional homicide rates per 100,000    6.7       NaN   \n",
            "2     Percentage of male and female intentional homi...   12.2       NaN   \n",
            "3     Percentage of male and female intentional homi...    0.8       NaN   \n",
            "4                Intentional homicide rates per 100,000    5.0       NaN   \n",
            "...                                                 ...    ...       ...   \n",
            "3558                Assault rate per 100,000 population  414.0       NaN   \n",
            "3559  Kidnapping at the national level, rate per 100...    1.8       NaN   \n",
            "3560  Theft at the national level, rate per 100,000 ...  738.8       NaN   \n",
            "3561             Intentional homicide rates per 100,000    5.6       NaN   \n",
            "3562             Intentional homicide rates per 100,000    7.5       NaN   \n",
            "\n",
            "                                                 Source  \n",
            "0     United Nations Office on Drugs and Crime (UNOD...  \n",
            "1     United Nations Office on Drugs and Crime (UNOD...  \n",
            "2     United Nations Office on Drugs and Crime (UNOD...  \n",
            "3     United Nations Office on Drugs and Crime (UNOD...  \n",
            "4     United Nations Office on Drugs and Crime (UNOD...  \n",
            "...                                                 ...  \n",
            "3558  United Nations Office on Drugs and Crime (UNOD...  \n",
            "3559  United Nations Office on Drugs and Crime (UNOD...  \n",
            "3560  United Nations Office on Drugs and Crime (UNOD...  \n",
            "3561  United Nations Office on Drugs and Crime (UNOD...  \n",
            "3562  United Nations Office on Drugs and Crime (UNOD...  \n",
            "\n",
            "[3563 rows x 7 columns]\n",
            "       ID                     Country  Year  \\\n",
            "1       4                 Afghanistan  2018   \n",
            "2       4                 Afghanistan  2018   \n",
            "3       4                 Afghanistan  2018   \n",
            "26      8                     Albania  2018   \n",
            "27      8                     Albania  2018   \n",
            "...   ...                         ...   ...   \n",
            "3534  862  Venezuela (Boliv. Rep. of)  2018   \n",
            "3535  862  Venezuela (Boliv. Rep. of)  2018   \n",
            "3536  862  Venezuela (Boliv. Rep. of)  2018   \n",
            "3537  862  Venezuela (Boliv. Rep. of)  2018   \n",
            "3538  862  Venezuela (Boliv. Rep. of)  2018   \n",
            "\n",
            "                                                 Series  Value Footnotes  \\\n",
            "1                Intentional homicide rates per 100,000    6.7       NaN   \n",
            "2     Percentage of male and female intentional homi...   12.2       NaN   \n",
            "3     Percentage of male and female intentional homi...    0.8       NaN   \n",
            "26               Intentional homicide rates per 100,000    2.3       NaN   \n",
            "27    Percentage of male and female intentional homi...    3.5       NaN   \n",
            "...                                                 ...    ...       ...   \n",
            "3534             Intentional homicide rates per 100,000   36.7       NaN   \n",
            "3535  Percentage of male and female intentional homi...   61.9       NaN   \n",
            "3536  Percentage of male and female intentional homi...   10.7       NaN   \n",
            "3537                Assault rate per 100,000 population    6.5       NaN   \n",
            "3538  Kidnapping at the national level, rate per 100...    0.7       NaN   \n",
            "\n",
            "                                                 Source  \n",
            "1     United Nations Office on Drugs and Crime (UNOD...  \n",
            "2     United Nations Office on Drugs and Crime (UNOD...  \n",
            "3     United Nations Office on Drugs and Crime (UNOD...  \n",
            "26    United Nations Office on Drugs and Crime (UNOD...  \n",
            "27    United Nations Office on Drugs and Crime (UNOD...  \n",
            "...                                                 ...  \n",
            "3534  United Nations Office on Drugs and Crime (UNOD...  \n",
            "3535  United Nations Office on Drugs and Crime (UNOD...  \n",
            "3536  United Nations Office on Drugs and Crime (UNOD...  \n",
            "3537  United Nations Office on Drugs and Crime (UNOD...  \n",
            "3538  United Nations Office on Drugs and Crime (UNOD...  \n",
            "\n",
            "[462 rows x 7 columns]\n"
          ]
        }
      ],
      "source": [
        "import pandas as pd\n",
        "import matplotlib.pyplot as plt\n",
        "\n",
        "df = pd.read_csv('/content/CSVInvestigation.csv')\n",
        "data = pd.DataFrame(df)\n",
        "print(data)\n",
        "\n",
        "#Solo deja los datos del año 2018\n",
        "dataFilteread2018=data.loc[data['Year']==2018]\n",
        "print(dataFilteread2018)"
      ]
    },
    {
      "cell_type": "markdown",
      "source": [
        "# Ejercicios"
      ],
      "metadata": {
        "id": "y2ZAOpecJUEV"
      }
    },
    {
      "cell_type": "markdown",
      "source": [
        "**5 paises con mayor indice de mayor criminalidad**"
      ],
      "metadata": {
        "id": "yPol8NxLJm-8"
      }
    },
    {
      "cell_type": "code",
      "source": [
        "#5 paises con mayor indice de mayor criminalidad\n",
        "dataFilteread = data.loc[(data['Series']=='Intentional homicide rates per 100,000')]\n",
        "#.head(5) para ver los primeros 5\n",
        "print(dataFilteread.sort_values(by=['Value'],ascending=False)[['Country', 'Value']].head(5))"
      ],
      "metadata": {
        "colab": {
          "base_uri": "https://localhost:8080/"
        },
        "id": "LNde5TcNHCqy",
        "outputId": "5a71071a-9d32-49fe-9854-03c0e7b4a283"
      },
      "execution_count": null,
      "outputs": [
        {
          "output_type": "stream",
          "name": "stdout",
          "text": [
            "                    Country  Value\n",
            "1099            El Salvador  105.2\n",
            "1448               Honduras   75.0\n",
            "2813  Saint Kitts and Nevis   68.8\n",
            "1091            El Salvador   64.5\n",
            "1085            El Salvador   64.1\n"
          ]
        }
      ]
    },
    {
      "cell_type": "markdown",
      "source": [
        "**5 paises con menor indice de mayor criminalidad**"
      ],
      "metadata": {
        "id": "wRy1fIUiJqCV"
      }
    },
    {
      "cell_type": "code",
      "source": [
        "#5 paises con menor indice de mayor criminalidad\n",
        "dataFilteread = data.loc[(data['Series']=='Intentional homicide rates per 100,000')]\n",
        "#.head(5) para ver los primeros 5\n",
        "print(dataFilteread.sort_values(by=['Value'],ascending=True)[['Country', 'Value']].head(5))"
      ],
      "metadata": {
        "colab": {
          "base_uri": "https://localhost:8080/"
        },
        "id": "MYWJZopGIZiU",
        "outputId": "9288b21a-83b0-44b8-af06-bc360e1a4c5a"
      },
      "execution_count": null,
      "outputs": [
        {
          "output_type": "stream",
          "name": "stdout",
          "text": [
            "                        Country  Value\n",
            "2196                 Montserrat    0.0\n",
            "3350   Turks and Caicos Islands    0.0\n",
            "2831  Saint Pierre and Miquelon    0.0\n",
            "3355                     Tuvalu    0.0\n",
            "2865                 San Marino    0.0\n"
          ]
        }
      ]
    },
    {
      "cell_type": "markdown",
      "source": [
        "**El crimene mas repetido por pais para el año 2018**"
      ],
      "metadata": {
        "id": "9j83ych4J5yM"
      }
    },
    {
      "cell_type": "code",
      "source": [
        "print(dataFilteread2018['Series'].value_counts())"
      ],
      "metadata": {
        "colab": {
          "base_uri": "https://localhost:8080/"
        },
        "id": "THde_3e1Jll9",
        "outputId": "09c00789-7e1c-4056-a554-05031188b3cd"
      },
      "execution_count": null,
      "outputs": [
        {
          "output_type": "stream",
          "name": "stdout",
          "text": [
            "Series\n",
            "Intentional homicide rates per 100,000                                91\n",
            "Assault rate per 100,000 population                                   82\n",
            "Theft at the national level, rate per 100,000 population              75\n",
            "Percentage of male and female intentional homicide victims, Male      74\n",
            "Percentage of male and female intentional homicide victims, Female    73\n",
            "Kidnapping at the national level, rate per 100,000                    67\n",
            "Name: count, dtype: int64\n"
          ]
        }
      ]
    },
    {
      "cell_type": "markdown",
      "source": [
        "**Crimen con el porncentaje mas alto en CR con el anño 2005**"
      ],
      "metadata": {
        "id": "12hdR7k_Khme"
      }
    },
    {
      "cell_type": "code",
      "source": [
        "dataFiltereadCR = data.loc[(data['Country']==\"Costa Rica\")&(data['Year']==2005)&(data['Series']==\"Theft at the national level, rate per 100,000 population\")]\n",
        "print(dataFiltereadCR)"
      ],
      "metadata": {
        "colab": {
          "base_uri": "https://localhost:8080/"
        },
        "id": "41mMxEanKtgF",
        "outputId": "76d7991c-7572-4f91-dadf-945d0c7c9821"
      },
      "execution_count": null,
      "outputs": [
        {
          "output_type": "stream",
          "name": "stdout",
          "text": [
            "      ID     Country  Year                                             Series  \\\n",
            "848  188  Costa Rica  2005  Theft at the national level, rate per 100,000 ...   \n",
            "\n",
            "     Value Footnotes                                             Source  \n",
            "848  195.1       NaN  United Nations Office on Drugs and Crime (UNOD...  \n"
          ]
        }
      ]
    },
    {
      "cell_type": "markdown",
      "source": [
        "**A**"
      ],
      "metadata": {
        "id": "GhDrf4qPMqYQ"
      }
    },
    {
      "cell_type": "code",
      "source": [
        "print(dataFiltereadCR.sort_values(by=['Value'],ascending=False)[['Country','Series','Value']])"
      ],
      "metadata": {
        "colab": {
          "base_uri": "https://localhost:8080/"
        },
        "id": "o3SSaJSRMuDy",
        "outputId": "44533f63-7e99-46fa-bb80-ce22e92db4b9"
      },
      "execution_count": null,
      "outputs": [
        {
          "output_type": "stream",
          "name": "stdout",
          "text": [
            "        Country                                             Series  Value\n",
            "848  Costa Rica  Theft at the national level, rate per 100,000 ...  195.1\n"
          ]
        }
      ]
    },
    {
      "cell_type": "markdown",
      "source": [
        "**Comparatida entre CR , Nicaragua y Panama por medio de la tasa**\n",
        "\n"
      ],
      "metadata": {
        "id": "4Ovwnh5_N21K"
      }
    },
    {
      "cell_type": "code",
      "source": [
        "resgistro = df.loc[(df['Country']==\"Costa Rica\")|(df['Country']==\"Nicaragua\")|(df['Country']==\"Panama\")]\n",
        "print(resgistro)"
      ],
      "metadata": {
        "colab": {
          "base_uri": "https://localhost:8080/"
        },
        "id": "-DjhzQIkN77E",
        "outputId": "fcc87ae5-8da6-4d63-cf3e-07e3784691e9"
      },
      "execution_count": null,
      "outputs": [
        {
          "output_type": "stream",
          "name": "stdout",
          "text": [
            "       ID     Country  Year  \\\n",
            "844   188  Costa Rica  2005   \n",
            "845   188  Costa Rica  2005   \n",
            "846   188  Costa Rica  2005   \n",
            "847   188  Costa Rica  2005   \n",
            "848   188  Costa Rica  2005   \n",
            "...   ...         ...   ...   \n",
            "2488  591      Panama  2018   \n",
            "2489  591      Panama  2018   \n",
            "2490  591      Panama  2018   \n",
            "2491  591      Panama  2018   \n",
            "2492  591      Panama  2018   \n",
            "\n",
            "                                                 Series  Value Footnotes  \\\n",
            "844              Intentional homicide rates per 100,000    7.8       NaN   \n",
            "845   Percentage of male and female intentional homi...   12.7       NaN   \n",
            "846   Percentage of male and female intentional homi...    2.9       NaN   \n",
            "847   Kidnapping at the national level, rate per 100...    0.3       NaN   \n",
            "848   Theft at the national level, rate per 100,000 ...  195.1       NaN   \n",
            "...                                                 ...    ...       ...   \n",
            "2488  Percentage of male and female intentional homi...   17.0       NaN   \n",
            "2489  Percentage of male and female intentional homi...    1.8       NaN   \n",
            "2490                Assault rate per 100,000 population  102.1       NaN   \n",
            "2491  Kidnapping at the national level, rate per 100...    0.4       NaN   \n",
            "2492  Theft at the national level, rate per 100,000 ...  395.7       NaN   \n",
            "\n",
            "                                                 Source  \n",
            "844   United Nations Office on Drugs and Crime (UNOD...  \n",
            "845   United Nations Office on Drugs and Crime (UNOD...  \n",
            "846   United Nations Office on Drugs and Crime (UNOD...  \n",
            "847   United Nations Office on Drugs and Crime (UNOD...  \n",
            "848   United Nations Office on Drugs and Crime (UNOD...  \n",
            "...                                                 ...  \n",
            "2488  United Nations Office on Drugs and Crime (UNOD...  \n",
            "2489  United Nations Office on Drugs and Crime (UNOD...  \n",
            "2490  United Nations Office on Drugs and Crime (UNOD...  \n",
            "2491  United Nations Office on Drugs and Crime (UNOD...  \n",
            "2492  United Nations Office on Drugs and Crime (UNOD...  \n",
            "\n",
            "[73 rows x 7 columns]\n"
          ]
        }
      ]
    },
    {
      "cell_type": "markdown",
      "source": [
        "**La moda sobre el año (El que mas se repite)**"
      ],
      "metadata": {
        "id": "MIzheZSaO3wj"
      }
    },
    {
      "cell_type": "code",
      "source": [
        "resgistro=data['Year']\n",
        "annio= resgistro.mode()\n",
        "print(annio)"
      ],
      "metadata": {
        "colab": {
          "base_uri": "https://localhost:8080/"
        },
        "id": "MIqls_isO4qC",
        "outputId": "35642b16-9ed1-4248-cf63-f4511de37d50"
      },
      "execution_count": null,
      "outputs": [
        {
          "output_type": "stream",
          "name": "stdout",
          "text": [
            "0    2010\n",
            "Name: Year, dtype: int64\n"
          ]
        }
      ]
    },
    {
      "cell_type": "markdown",
      "source": [
        "**Genero mas afectado en crimenes en promedio en el año 2018**"
      ],
      "metadata": {
        "id": "1xh5L7f-PiID"
      }
    },
    {
      "cell_type": "code",
      "source": [
        "# ¿Cual es el genero que se vio mas afectado en la cantidad de crimenes?\n",
        "print()\n",
        "print()\n",
        "#print('¿Cual es el genero que se vio mas afectado en la cantidad de crimenes?')\n",
        "#dataFiltereadbygender=dataFilteread2018,loc[((\n",
        "\n",
        "#    dataFilteread2018['Series'] == \"Percentage of male and female intentional homicide victims,Male\"\n",
        "#   dataFilteread2018['Series'] == \"Percentage of male and female intentional homicide victims,Female\"\n",
        "#    ).groupby('Series')['Value']\n",
        "#)]"
      ],
      "metadata": {
        "id": "lFq-vYB3Pizb"
      },
      "execution_count": null,
      "outputs": []
    }
  ]
}